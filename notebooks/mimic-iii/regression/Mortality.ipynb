{
 "cells": [
  {
   "cell_type": "code",
   "execution_count": 1,
   "metadata": {},
   "outputs": [],
   "source": [
    "# Imports\n",
    "import pandas as pd\n",
    "import numpy as np\n",
    "import psycopg2\n",
    "import tqdm\n",
    "from time import gmtime, strftime"
   ]
  },
  {
   "cell_type": "code",
   "execution_count": 2,
   "metadata": {},
   "outputs": [],
   "source": [
    "# Visualization\n",
    "import matplotlib.pyplot as plt\n",
    "import matplotlib.ticker as mtick\n",
    "import matplotlib.font_manager\n",
    "import seaborn as sns\n",
    "\n",
    "%matplotlib inline"
   ]
  },
  {
   "cell_type": "code",
   "execution_count": 3,
   "metadata": {},
   "outputs": [],
   "source": [
    "plt.style.use('ggplot')\n",
    "\n",
    "plt.rcParams['font.sans-serif'] = 'Arial'\n",
    "plt.rcParams['font.family'] = 'sans-serif'\n",
    "plt.rcParams['text.color'] = '#505050'\n",
    "plt.rcParams['axes.labelcolor']= '#505050'\n",
    "plt.rcParams['xtick.color'] = '#505050'\n",
    "plt.rcParams['ytick.color'] = '#505050'\n",
    "plt.rcParams['font.size']= 11"
   ]
  },
  {
   "cell_type": "code",
   "execution_count": 4,
   "metadata": {},
   "outputs": [],
   "source": [
    "def countplot_frequency(df, column_name, title, order=None):\n",
    "    ax = sns.countplot(x=column_name, data=df, order=order)\n",
    "    plt.title(title)\n",
    "\n",
    "    # Make twin axis\n",
    "    ax2 = ax.twinx()\n",
    "\n",
    "    # Switch so count axis is on right, frequency on left\n",
    "    ax2.yaxis.tick_left()\n",
    "    ax.yaxis.tick_right()\n",
    "\n",
    "    # Also switch the labels over\n",
    "    ax.yaxis.set_label_position('right')\n",
    "    ax2.yaxis.set_label_position('left')\n",
    "\n",
    "    ax2.set_ylabel('Frequency [%]')\n",
    "\n",
    "    ncount = len(df)\n",
    "    for p in ax.patches:\n",
    "        x = p.get_bbox().get_points()[:,0]\n",
    "        y = p.get_bbox().get_points()[1,1]\n",
    "        ax.annotate('{:.2f}%'.format(100.*y/ncount), (x.mean(), y), ha='center', va='bottom') # set the alignment of the text\n",
    "\n",
    "    # Use a LinearLocator to ensure the correct number of ticks\n",
    "    ax.yaxis.set_major_locator(mtick.LinearLocator(11))\n",
    "\n",
    "    # Fix the frequency range to 0-100\n",
    "    ax2.set_ylim(0, 100)\n",
    "    ax.set_ylim(0, ncount)\n",
    "\n",
    "    # And use a MultipleLocator to ensure a tick spacing of 10\n",
    "    ax2.yaxis.set_major_locator(mtick.MultipleLocator(10))\n",
    "\n",
    "    # Need to turn the grid on ax2 off, otherwise the gridlines end up on top of the bars\n",
    "    ax2.grid(None)\n",
    "    return ax, ax2"
   ]
  },
  {
   "cell_type": "markdown",
   "metadata": {},
   "source": [
    "#### POSTGRESQL"
   ]
  },
  {
   "cell_type": "code",
   "execution_count": 5,
   "metadata": {},
   "outputs": [],
   "source": [
    "# Notebook\n",
    "host = '/tmp'\n",
    "\n",
    "# Locus\n",
    "# host = '/var/run/postgresql'\n",
    "\n",
    "con = psycopg2.connect(dbname ='mimic', user='postgres', password=\"*\", host=host)\n",
    "cur = con.cursor()"
   ]
  },
  {
   "cell_type": "markdown",
   "metadata": {
    "colab_type": "text",
    "id": "11xcgkhULsVh"
   },
   "source": [
    "### Patients table"
   ]
  },
  {
   "cell_type": "code",
   "execution_count": 6,
   "metadata": {},
   "outputs": [],
   "source": [
    "pat_query = '''SELECT * FROM mimiciii.patients;'''\n",
    "mimic_patients_df = pd.read_sql_query(pat_query, con)"
   ]
  },
  {
   "cell_type": "markdown",
   "metadata": {
    "colab_type": "text",
    "id": "5Spf4HPWLuuI"
   },
   "source": [
    "### Admission table"
   ]
  },
  {
   "cell_type": "code",
   "execution_count": 7,
   "metadata": {},
   "outputs": [],
   "source": [
    "adm_query = '''SELECT * FROM mimiciii.admissions;'''\n",
    "mimic_admission_df = pd.read_sql_query(adm_query, con)"
   ]
  },
  {
   "cell_type": "markdown",
   "metadata": {
    "colab_type": "text",
    "id": "8TV--jk7LzT5"
   },
   "source": [
    "#### Merge both tables and calculate true age"
   ]
  },
  {
   "cell_type": "code",
   "execution_count": 8,
   "metadata": {},
   "outputs": [],
   "source": [
    "# Merge patient and admission tables\n",
    "mimic_patients_admission_df = pd.merge(mimic_admission_df, mimic_patients_df, on = 'subject_id' , how = 'inner')"
   ]
  },
  {
   "cell_type": "code",
   "execution_count": 9,
   "metadata": {},
   "outputs": [],
   "source": [
    "# ADMITTIME and DOB objects to datetime\n",
    "mimic_patients_admission_df[\"admittime\"] = pd.to_datetime(mimic_patients_admission_df[\"admittime\"], format='%Y%m%d %H:%M:%S')\n",
    "mimic_patients_admission_df[\"dob\"] = pd.to_datetime(mimic_patients_admission_df[\"dob\"], format='%Y%m%d %H:%M:%S')\n",
    "\n",
    "# True age\n",
    "mimic_patients_admission_df[\"age\"] = mimic_patients_admission_df[\"admittime\"].sub(mimic_patients_admission_df[\"dob\"]).dt.days/365.242\n",
    "\n",
    "# Adult patients only\n",
    "mimic_patients_admission_df = mimic_patients_admission_df[(mimic_patients_admission_df['age'] >= 18)]\n"
   ]
  },
  {
   "cell_type": "markdown",
   "metadata": {
    "colab_type": "text",
    "id": "caV9jjjiL8To"
   },
   "source": [
    "### ICD-9 Codes table"
   ]
  },
  {
   "cell_type": "code",
   "execution_count": 10,
   "metadata": {},
   "outputs": [],
   "source": [
    "diagnoses_query = '''SELECT * FROM mimiciii.diagnoses_icd;'''\n",
    "mimic_diagnoses_df = pd.read_sql_query(diagnoses_query, con)"
   ]
  },
  {
   "cell_type": "code",
   "execution_count": 11,
   "metadata": {},
   "outputs": [],
   "source": [
    "mimic_patients_diagnoses_df = pd.merge(mimic_patients_admission_df, mimic_diagnoses_df, on = ['subject_id', 'hadm_id'], how = 'inner')"
   ]
  },
  {
   "cell_type": "markdown",
   "metadata": {
    "colab_type": "text",
    "id": "OmGkIYxsMl-3"
   },
   "source": [
    "### ICD-9 Descriptions table"
   ]
  },
  {
   "cell_type": "code",
   "execution_count": 12,
   "metadata": {},
   "outputs": [],
   "source": [
    "diagnoses_descriptions_query = '''SELECT * FROM mimiciii.d_icd_diagnoses;'''\n",
    "mimic_diagnoses_descriptions_df = pd.read_sql_query(diagnoses_descriptions_query, con)"
   ]
  },
  {
   "cell_type": "markdown",
   "metadata": {
    "colab_type": "text",
    "id": "8GJheX71MS-w"
   },
   "source": [
    "## Occurrence and Mortality"
   ]
  },
  {
   "cell_type": "code",
   "execution_count": 13,
   "metadata": {},
   "outputs": [],
   "source": [
    "# function by wboeg\n",
    "def normalize_ethnicity(ethnicity):\n",
    "    if 'BLACK' in ethnicity:\n",
    "        return 'black'\n",
    "    if 'WHITE' in ethnicity:\n",
    "        return 'white'\n",
    "    if 'ASIAN' in ethnicity:\n",
    "        return 'asian'\n",
    "    if 'LATINO' in ethnicity:\n",
    "        return 'hispanic'\n",
    "    if 'HISPANIC' in ethnicity:\n",
    "        return 'hispanic'\n",
    "    if 'SOUTH AMERICAN' in ethnicity:\n",
    "        return 'other'\n",
    "    if 'CARIBBEAN ISLAND' in ethnicity:\n",
    "        return 'black'\n",
    "    if 'AMERICAN INDIAN' in ethnicity:\n",
    "        return 'other'    \n",
    "    if 'MIDDLE EASTERN' in ethnicity:\n",
    "        return 'other'\n",
    "    if 'MULTI RACE ETHNICITY' in ethnicity:\n",
    "        return 'other'\n",
    "    if 'NATIVE HAWAIIAN OR OTHER PACIFIC ISLANDER' in ethnicity:\n",
    "        return 'other'\n",
    "    if 'PORTUGUESE' in ethnicity:\n",
    "        return 'other'       \n",
    "    return 'unknown'\n",
    "\n",
    "def normalize_insurance(ins):\n",
    "    if ins in ['Government', 'Medicaid', 'Medicare']:\n",
    "        return 'Public'\n",
    "    elif ins == 'Private':\n",
    "        return 'Private'\n",
    "    else:\n",
    "        return 'Self-Pay'"
   ]
  },
  {
   "cell_type": "code",
   "execution_count": 14,
   "metadata": {},
   "outputs": [],
   "source": [
    "mimic_patients_diagnoses_df['ethnicity'] = mimic_patients_diagnoses_df['ethnicity'].apply(normalize_ethnicity)\n",
    "mimic_patients_diagnoses_df['insurance'] = mimic_patients_diagnoses_df['insurance'].apply(normalize_insurance)"
   ]
  },
  {
   "cell_type": "code",
   "execution_count": 15,
   "metadata": {},
   "outputs": [],
   "source": [
    "# Lenght of stay (hours)\n",
    "los = mimic_patients_diagnoses_df['dischtime'] - mimic_patients_diagnoses_df['admittime']\n",
    "mimic_patients_diagnoses_df['los'] = los.apply(lambda t:(t.days*24) + (t.seconds/3600))"
   ]
  },
  {
   "cell_type": "code",
   "execution_count": 16,
   "metadata": {},
   "outputs": [],
   "source": [
    "# We are not considering MULTI RACE ETHNICITY, UNKNOWN or OTHER \n",
    "mimic_patients_diagnoses_df = mimic_patients_diagnoses_df[(mimic_patients_diagnoses_df['ethnicity'] != 'other') & (mimic_patients_diagnoses_df['ethnicity'] != 'unknown')]\n"
   ]
  },
  {
   "cell_type": "markdown",
   "metadata": {},
   "source": [
    "### ICU Stays (patients details)\n",
    "\n",
    "link:\n",
    "https://github.com/MIT-LCP/mimic-code/blob/master/tutorials/cohort-selection.ipynb\n",
    "\n",
    "\"As MIMIC-III is primarily an intensive care unit (ICU) database, the focus will be on patients admitted to and discharged from the ICU. That is, rather than selecting our cohort based off the individual patient (identified by subject_id in the database), we will usually want to select our cohort based off the ICU stay (identified by icustay_id). Thus, it is sensible to begin with the icustays table.\""
   ]
  },
  {
   "cell_type": "code",
   "execution_count": 17,
   "metadata": {},
   "outputs": [],
   "source": [
    "icustay_query = 'SELECT * FROM mimiciii.icustay_detail_v2;' \n",
    "icustay_details_df = pd.read_sql_query(icustay_query, con)"
   ]
  },
  {
   "cell_type": "code",
   "execution_count": 18,
   "metadata": {},
   "outputs": [],
   "source": [
    "# We are not considering MULTI RACE ETHNICITY, NATIVE, UNKNOWN or OTHER \n",
    "icustay_details_df = icustay_details_df[(icustay_details_df['ethnicity_grouped'] != 'other') & (icustay_details_df['ethnicity_grouped'] != 'unknown') & (icustay_details_df['ethnicity_grouped'] != 'native')]\n",
    "\n",
    "# +18 years old (300 years old are patients older than 89)\n",
    "icustay_details_df = icustay_details_df[(icustay_details_df['age'] >= 18) & (icustay_details_df['age'] < 300)]\n",
    "\n",
    "# insurance\n",
    "icustay_details_df['insurance'] = icustay_details_df['insurance'].apply(normalize_insurance)\n",
    "\n",
    "# icd9 merge\n",
    "icu_diagnoses_df = pd.merge(icustay_details_df, mimic_diagnoses_df, on = ['subject_id', 'hadm_id'], how = 'inner')"
   ]
  },
  {
   "cell_type": "markdown",
   "metadata": {
    "colab_type": "text",
    "id": "U1MqVs5kM50q"
   },
   "source": [
    "#### Unique patient with multiple rows with same ICD9"
   ]
  },
  {
   "cell_type": "code",
   "execution_count": 19,
   "metadata": {},
   "outputs": [],
   "source": [
    "# eth_mortality_df = mimic_patients_diagnoses_df.groupby(['icd9_code', 'ethnicity', 'hospital_expire_flag']).size().unstack()\n",
    "\n",
    "eth_mortality_df = icu_diagnoses_df.groupby(['icd9_code', 'ethnicity_grouped', 'hospital_expire_flag']).size().unstack()\n",
    "eth_mortality_df = eth_mortality_df.reset_index()\n",
    "eth_mortality_df.columns.names = [None]\n",
    "eth_mortality_df.columns = ['icd9_code', 'ethnicity', 'alive', 'dead']\n",
    "eth_mortality_df.insert(4, 'total', '0')\n",
    "eth_mortality_df = eth_mortality_df.fillna(0)\n",
    "eth_mortality_df['total'] = eth_mortality_df['total'].astype(float)\n",
    "\n",
    "# Compute alive, dead and total\n",
    "for index, row in eth_mortality_df.iterrows():\n",
    "    eth_mortality_df.at[index, 'total'] = row['alive'] + row['dead']"
   ]
  },
  {
   "cell_type": "code",
   "execution_count": 20,
   "metadata": {},
   "outputs": [],
   "source": [
    "# merge mortality with descriptions from each ICD\n",
    "eth_mortality_df = eth_mortality_df.merge(mimic_diagnoses_descriptions_df, left_on='icd9_code', right_on='icd9_code')"
   ]
  },
  {
   "cell_type": "markdown",
   "metadata": {
    "colab_type": "text",
    "id": "W0HEn07APpup"
   },
   "source": [
    "#### Transplanted patients"
   ]
  },
  {
   "cell_type": "code",
   "execution_count": 21,
   "metadata": {},
   "outputs": [],
   "source": [
    "# Search only for patients with transplant description\n",
    "transplanted_patients_df = eth_mortality_df[eth_mortality_df['long_title'].str.lower().str.contains('transplant')].copy()"
   ]
  },
  {
   "cell_type": "code",
   "execution_count": 22,
   "metadata": {},
   "outputs": [],
   "source": [
    "# 1. Mortality significance: only +1 patients dead\n",
    "transplanted_patients_df = transplanted_patients_df.loc[eth_mortality_df['dead'] > 1]\n",
    "\n",
    "# 3. Remove ICD9 codes with only ONE ETHNICITY\n",
    "for index, row in transplanted_patients_df.iterrows():\n",
    "    rows = transplanted_patients_df.loc[transplanted_patients_df['icd9_code'] == row['icd9_code']]\n",
    "    if (len(rows) == 1):\n",
    "        transplanted_patients_df.drop(rows.index, inplace=True)"
   ]
  },
  {
   "cell_type": "code",
   "execution_count": 23,
   "metadata": {},
   "outputs": [],
   "source": [
    "# pd.set_option(\"display.max_colwidth\", 500, 'display.max_rows', 100)\n",
    "transplanted_patients_df = transplanted_patients_df.drop(['row_id', 'short_title'], axis=1)"
   ]
  },
  {
   "cell_type": "markdown",
   "metadata": {
    "colab_type": "text",
    "id": "JXwUmYy4ELWF"
   },
   "source": [
    "#### Cancer"
   ]
  },
  {
   "cell_type": "code",
   "execution_count": 24,
   "metadata": {
    "colab": {},
    "colab_type": "code",
    "id": "oaUCwZx69Esu"
   },
   "outputs": [],
   "source": [
    "searchfor = ['neoplasm', 'neoplasms', 'sarcoma', 'carcinoma']\n",
    "cancer_patients_df = eth_mortality_df[eth_mortality_df['long_title'].str.lower().str.contains('|'.join(searchfor))].copy()"
   ]
  },
  {
   "cell_type": "code",
   "execution_count": 25,
   "metadata": {
    "colab": {},
    "colab_type": "code",
    "id": "pO_gf3SVEUfs"
   },
   "outputs": [],
   "source": [
    "# 1. Mortality significance: only +1 patients dead\n",
    "cancer_patients_df = cancer_patients_df.loc[cancer_patients_df['dead'] > 1]\n",
    "\n",
    "# 2. Remove ICD9 codes with only ONE ETHNICITY\n",
    "for index, row in cancer_patients_df.iterrows():\n",
    "    rows = cancer_patients_df.loc[cancer_patients_df['icd9_code'] == row['icd9_code']]\n",
    "    if (len(rows) == 1):\n",
    "        cancer_patients_df.drop(rows.index, inplace=True)"
   ]
  },
  {
   "cell_type": "code",
   "execution_count": 26,
   "metadata": {
    "colab": {},
    "colab_type": "code",
    "id": "k_bsk1jJEUfy"
   },
   "outputs": [],
   "source": [
    "cancer_patients_df = cancer_patients_df.drop(['row_id', 'short_title'], axis=1)"
   ]
  },
  {
   "cell_type": "markdown",
   "metadata": {},
   "source": [
    "#### Diabetes"
   ]
  },
  {
   "cell_type": "code",
   "execution_count": 27,
   "metadata": {},
   "outputs": [],
   "source": [
    "diabetes_patients_df = eth_mortality_df[eth_mortality_df['long_title'].str.lower().str.contains('diabetes')].copy()"
   ]
  },
  {
   "cell_type": "code",
   "execution_count": 28,
   "metadata": {},
   "outputs": [],
   "source": [
    "# 1. Mortality significance: only +1 patients dead\n",
    "diabetes_patients_df = diabetes_patients_df.loc[diabetes_patients_df['dead'] > 1]\n",
    "\n",
    "# 2. Remove ICD9 codes with only ONE ETHNICITY\n",
    "for index, row in diabetes_patients_df.iterrows():\n",
    "    rows = diabetes_patients_df.loc[diabetes_patients_df['icd9_code'] == row['icd9_code']]\n",
    "    if (len(rows) == 1):\n",
    "        diabetes_patients_df.drop(rows.index, inplace=True)"
   ]
  },
  {
   "cell_type": "code",
   "execution_count": 29,
   "metadata": {},
   "outputs": [],
   "source": [
    "diabetes_patients_df = diabetes_patients_df.drop(['row_id', 'short_title'], axis=1)"
   ]
  },
  {
   "cell_type": "markdown",
   "metadata": {},
   "source": [
    "### Cohort"
   ]
  },
  {
   "cell_type": "markdown",
   "metadata": {
    "colab_type": "text",
    "id": "WRhZ41HHJAM7"
   },
   "source": [
    "##### HOSPITAL ADMISSIONS FOR EACH ICD9"
   ]
  },
  {
   "cell_type": "code",
   "execution_count": 30,
   "metadata": {},
   "outputs": [],
   "source": [
    "icd9_list = set(transplanted_patients_df['icd9_code'])\n",
    "icd9_list.update(cancer_patients_df['icd9_code'])\n",
    "icd9_list.update(diabetes_patients_df['icd9_code'])\n",
    "\n",
    "hadm_ids_list = set()\n",
    "cohort_df = pd.DataFrame()\n",
    "\n",
    "for icd9 in icd9_list:    \n",
    "    patients = icu_diagnoses_df.loc[(icu_diagnoses_df[\"icd9_code\"] == icd9)].copy()\n",
    "    cohort_df = cohort_df.append(patients, ignore_index=True)\n",
    "    for hadm_id in patients['hadm_id']:\n",
    "        hadm_ids_list.add(hadm_id)"
   ]
  },
  {
   "cell_type": "code",
   "execution_count": 31,
   "metadata": {},
   "outputs": [],
   "source": [
    "# REMOVE: same admission multiple times for different ICD9\n",
    "cohort_df.drop_duplicates(subset='hadm_id', keep='last', inplace=True)"
   ]
  },
  {
   "cell_type": "code",
   "execution_count": 32,
   "metadata": {},
   "outputs": [
    {
     "data": {
      "text/plain": [
       "Index(['subject_id', 'hadm_id', 'icustay_id', 'gender', 'dod', 'admittime',\n",
       "       'dischtime', 'insurance', 'los_hospital', 'age', 'ethnicity',\n",
       "       'ethnicity_grouped', 'admission_type', 'hospital_expire_flag',\n",
       "       'hospstay_seq', 'first_hosp_stay', 'intime', 'outtime', 'los_icu',\n",
       "       'icustay_seq', 'first_icu_stay', 'row_id', 'seq_num', 'icd9_code'],\n",
       "      dtype='object')"
      ]
     },
     "execution_count": 32,
     "metadata": {},
     "output_type": "execute_result"
    }
   ],
   "source": [
    "cohort_df.columns"
   ]
  },
  {
   "cell_type": "markdown",
   "metadata": {},
   "source": [
    "### MIMIC III Population characteristics"
   ]
  },
  {
   "cell_type": "code",
   "execution_count": 33,
   "metadata": {},
   "outputs": [
    {
     "data": {
      "text/html": [
       "<div>\n",
       "<style scoped>\n",
       "    .dataframe tbody tr th:only-of-type {\n",
       "        vertical-align: middle;\n",
       "    }\n",
       "\n",
       "    .dataframe tbody tr th {\n",
       "        vertical-align: top;\n",
       "    }\n",
       "\n",
       "    .dataframe thead tr th {\n",
       "        text-align: left;\n",
       "    }\n",
       "\n",
       "    .dataframe thead tr:last-of-type th {\n",
       "        text-align: right;\n",
       "    }\n",
       "</style>\n",
       "<table border=\"1\" class=\"dataframe\">\n",
       "  <thead>\n",
       "    <tr>\n",
       "      <th></th>\n",
       "      <th></th>\n",
       "      <th colspan=\"4\" halign=\"left\">Grouped by Ethnicity</th>\n",
       "    </tr>\n",
       "    <tr>\n",
       "      <th></th>\n",
       "      <th></th>\n",
       "      <th>asian</th>\n",
       "      <th>black</th>\n",
       "      <th>hispanic</th>\n",
       "      <th>white</th>\n",
       "    </tr>\n",
       "    <tr>\n",
       "      <th>variable</th>\n",
       "      <th>level</th>\n",
       "      <th></th>\n",
       "      <th></th>\n",
       "      <th></th>\n",
       "      <th></th>\n",
       "    </tr>\n",
       "  </thead>\n",
       "  <tbody>\n",
       "    <tr>\n",
       "      <th>n</th>\n",
       "      <th></th>\n",
       "      <td>504</td>\n",
       "      <td>2367</td>\n",
       "      <td>738</td>\n",
       "      <td>13548</td>\n",
       "    </tr>\n",
       "    <tr>\n",
       "      <th rowspan=\"2\" valign=\"top\">Gender</th>\n",
       "      <th>F</th>\n",
       "      <td>197 (39.1)</td>\n",
       "      <td>1326 (56.0)</td>\n",
       "      <td>302 (40.9)</td>\n",
       "      <td>5693 (42.0)</td>\n",
       "    </tr>\n",
       "    <tr>\n",
       "      <th>M</th>\n",
       "      <td>307 (60.9)</td>\n",
       "      <td>1041 (44.0)</td>\n",
       "      <td>436 (59.1)</td>\n",
       "      <td>7855 (58.0)</td>\n",
       "    </tr>\n",
       "    <tr>\n",
       "      <th rowspan=\"3\" valign=\"top\">Insurance</th>\n",
       "      <th>Private</th>\n",
       "      <td>100 (19.8)</td>\n",
       "      <td>467 (19.7)</td>\n",
       "      <td>129 (17.5)</td>\n",
       "      <td>3960 (29.2)</td>\n",
       "    </tr>\n",
       "    <tr>\n",
       "      <th>Public</th>\n",
       "      <td>403 (80.0)</td>\n",
       "      <td>1887 (79.7)</td>\n",
       "      <td>599 (81.2)</td>\n",
       "      <td>9553 (70.5)</td>\n",
       "    </tr>\n",
       "    <tr>\n",
       "      <th>Self-Pay</th>\n",
       "      <td>1 (0.2)</td>\n",
       "      <td>13 (0.5)</td>\n",
       "      <td>10 (1.4)</td>\n",
       "      <td>35 (0.3)</td>\n",
       "    </tr>\n",
       "    <tr>\n",
       "      <th>Length of Stay</th>\n",
       "      <th></th>\n",
       "      <td>7.5 [4.2,13.0]</td>\n",
       "      <td>7.0 [4.0,12.0]</td>\n",
       "      <td>6.5 [4.1,12.0]</td>\n",
       "      <td>7.5 [4.6,12.7]</td>\n",
       "    </tr>\n",
       "    <tr>\n",
       "      <th>Age</th>\n",
       "      <th></th>\n",
       "      <td>66.4 [56.5,76.8]</td>\n",
       "      <td>63.9 [53.9,73.1]</td>\n",
       "      <td>60.2 [50.0,70.5]</td>\n",
       "      <td>68.6 [58.8,77.8]</td>\n",
       "    </tr>\n",
       "  </tbody>\n",
       "</table>\n",
       "</div><br />[1] Warning, Hartigan's Dip Test reports possible multimodal distributions for: los_hospital.<br />[2] Warning, Tukey test indicates far outliers in: los_hospital.<br />[3] Warning, test for normality reports non-normal distributions for: age, los_hospital.<br />"
      ],
      "text/plain": [
       "                        Grouped by Ethnicity                                                      \n",
       "                                       asian             black          hispanic             white\n",
       "variable       level                                                                              \n",
       "n                                        504              2367               738             13548\n",
       "Gender         F                  197 (39.1)       1326 (56.0)        302 (40.9)       5693 (42.0)\n",
       "               M                  307 (60.9)       1041 (44.0)        436 (59.1)       7855 (58.0)\n",
       "Insurance      Private            100 (19.8)        467 (19.7)        129 (17.5)       3960 (29.2)\n",
       "               Public             403 (80.0)       1887 (79.7)        599 (81.2)       9553 (70.5)\n",
       "               Self-Pay              1 (0.2)          13 (0.5)          10 (1.4)          35 (0.3)\n",
       "Length of Stay                7.5 [4.2,13.0]    7.0 [4.0,12.0]    6.5 [4.1,12.0]    7.5 [4.6,12.7]\n",
       "Age                         66.4 [56.5,76.8]  63.9 [53.9,73.1]  60.2 [50.0,70.5]  68.6 [58.8,77.8]\n",
       "[1] Warning, Hartigan's Dip Test reports possible multimodal distributions for: los_hospital.\n",
       "[2] Warning, Tukey test indicates far outliers in: los_hospital.\n",
       "[3] Warning, test for normality reports non-normal distributions for: age, los_hospital."
      ]
     },
     "execution_count": 33,
     "metadata": {},
     "output_type": "execute_result"
    }
   ],
   "source": [
    "# Pollard TJ, Johnson AEW, Raffa JD, Mark RG (2018). tableone: An open source\n",
    "# Python package for producing summary statistics for research papers.\n",
    "# JAMIA Open, Volume 1, Issue 1, 1 July 2018, Pages 26-31.\n",
    "# https://doi.org/10.1093/jamiaopen/ooy012\n",
    "    \n",
    "# Table One\n",
    "from tableone import TableOne\n",
    "\n",
    "# optionally, a categorical variable for stratification\n",
    "groupby = ['ethnicity_grouped']\n",
    "\n",
    "# columns to be summarized\n",
    "columns = ['gender', 'insurance','los_hospital', 'age'] \n",
    "\n",
    "# columns containing categorical variables\n",
    "categorical = ['gender', 'insurance']\n",
    "\n",
    "# non-normal variables\n",
    "nonnormal = ['age', 'los_hospital']\n",
    "\n",
    "# alternative labels\n",
    "labels={'los_hospital': 'Length of Stay', 'age': 'Age', 'ethnicity_grouped':'Ethnicity',\n",
    "        'gender':'Gender', 'insurance':'Insurance'}\n",
    "\n",
    "# combine all information\n",
    "grouped_df = cohort_df\n",
    "\n",
    "# create an instance of TableOne with the input arguments\n",
    "grouped_table = TableOne(grouped_df, columns, categorical, groupby, nonnormal, rename=labels, isnull=False)\n",
    "\n",
    "# view tableone\n",
    "grouped_table"
   ]
  },
  {
   "cell_type": "code",
   "execution_count": 34,
   "metadata": {},
   "outputs": [
    {
     "data": {
      "text/plain": [
       "array([<matplotlib.axes._subplots.AxesSubplot object at 0x1a247fa898>,\n",
       "       <matplotlib.axes._subplots.AxesSubplot object at 0x1a23a58978>],\n",
       "      dtype=object)"
      ]
     },
     "execution_count": 34,
     "metadata": {},
     "output_type": "execute_result"
    },
    {
     "data": {
      "image/png": "[encoded data removed]",
      "text/plain": [
       "<Figure size 720x360 with 2 Axes>"
      ]
     },
     "metadata": {},
     "output_type": "display_data"
    }
   ],
   "source": [
    "# Total (by gender)\n",
    "cohort_df.hist(column='age', by='gender', bins=20, color='#271087', zorder=2, rwidth=0.8, figsize=(10, 5))\n"
   ]
  },
  {
   "cell_type": "code",
   "execution_count": 35,
   "metadata": {},
   "outputs": [
    {
     "data": {
      "text/plain": [
       "(<matplotlib.axes._subplots.AxesSubplot at 0x1a24d7f588>,\n",
       " <matplotlib.axes._subplots.AxesSubplot at 0x1a256eba90>)"
      ]
     },
     "execution_count": 35,
     "metadata": {},
     "output_type": "execute_result"
    },
    {
     "data": {
      "image/png": "[encoded data removed]",
      "text/plain": [
       "<Figure size 432x288 with 2 Axes>"
      ]
     },
     "metadata": {},
     "output_type": "display_data"
    }
   ],
   "source": [
    "# by insurance\n",
    "countplot_frequency(cohort_df, 'insurance', 'Adults patients only')"
   ]
  },
  {
   "cell_type": "code",
   "execution_count": 36,
   "metadata": {},
   "outputs": [
    {
     "data": {
      "text/plain": [
       "Text(0, 0.5, 'Density')"
      ]
     },
     "execution_count": 36,
     "metadata": {},
     "output_type": "execute_result"
    },
    {
     "data": {
      "image/png": "[encoded data removed]",
      "text/plain": [
       "<Figure size 432x288 with 1 Axes>"
      ]
     },
     "metadata": {},
     "output_type": "display_data"
    }
   ],
   "source": [
    "# Insurance by age\n",
    "cohort_df.groupby('insurance')['age'].plot(kind='density')\n",
    "\n",
    "plt.legend(prop={'size': 14}, title = 'Insurance', frameon=False, bbox_to_anchor=(1.5, 0.8))\n",
    "plt.title('Density plot with multiple insurances')\n",
    "plt.xlabel('Age')\n",
    "plt.ylabel('Density')"
   ]
  },
  {
   "cell_type": "code",
   "execution_count": 40,
   "metadata": {},
   "outputs": [
    {
     "data": {
      "text/plain": [
       "Text(0, 0.5, '# patients')"
      ]
     },
     "execution_count": 40,
     "metadata": {},
     "output_type": "execute_result"
    },
    {
     "data": {
      "image/png": "[encoded data removed]",
      "text/plain": [
       "<Figure size 720x360 with 1 Axes>"
      ]
     },
     "metadata": {},
     "output_type": "display_data"
    }
   ],
   "source": [
    "# Lenght of stay\n",
    "cohort_df.hist(column='los_hospital', bins=40, color='#271087', grid=True, zorder=2, rwidth=0.8, figsize=(10, 5))\n",
    "plt.yscale('log')\n",
    "plt.title('Lenght of stay')\n",
    "plt.xlabel('Days')\n",
    "plt.ylabel('# patients')"
   ]
  },
  {
   "cell_type": "markdown",
   "metadata": {},
   "source": [
    "### Oasis score\n",
    "\n",
    "Oxford Acute Severity of Illness Score (OASIS)\n",
    "- This score is a measure of severity of illness for patients in the ICU.\n",
    "- The score is calculated on the first day of each ICU patients' stay.\n",
    "\n",
    "Variables used in OASIS:\n",
    "-  Heart rate, GCS, MAP, Temperature, Respiratory rate, Ventilation status (sourced from CHARTEVENTS)\n",
    "-  Urine output (sourced from OUTPUTEVENTS)\n",
    "-  Elective surgery (sourced from ADMISSIONS and SERVICES)\n",
    "-  Pre-ICU in-hospital length of stay (sourced from ADMISSIONS and ICUSTAYS)\n",
    "-  Age (sourced from PATIENTS)"
   ]
  },
  {
   "cell_type": "code",
   "execution_count": 42,
   "metadata": {},
   "outputs": [],
   "source": [
    "# Get the OASIS scores (ONLY IF PATIENT WAS ADMITTED TO THE ICU)\n",
    "oasis_query = 'SELECT distinct hadm_id, max(oasis) as oasis FROM mimiciii.oasis GROUP BY hadm_id'\n",
    "oasis_df = pd.read_sql_query(oasis_query, con)"
   ]
  },
  {
   "cell_type": "code",
   "execution_count": 45,
   "metadata": {},
   "outputs": [],
   "source": [
    "def select(scores):\n",
    "    return {hadm_id: scores[hadm_id] for hadm_id in hadm_ids_list}\n",
    "\n",
    "# Low: 0-32\n",
    "# Medium: 33-40\n",
    "# High: 41+\n",
    "oasis_scores = dict(oasis_df[['hadm_id','oasis']].values)\n",
    "patients_oasis_score = select(oasis_scores)"
   ]
  }
 ],
 "metadata": {
  "colab": {
   "collapsed_sections": [
    "JXwUmYy4ELWF"
   ],
   "name": "Transplants-Cancer: ethnicity.ipynb",
   "provenance": []
  },
  "kernelspec": {
   "display_name": "Python 3",
   "language": "python",
   "name": "python3"
  },
  "language_info": {
   "codemirror_mode": {
    "name": "ipython",
    "version": 3
   },
   "file_extension": ".py",
   "mimetype": "text/x-python",
   "name": "python",
   "nbconvert_exporter": "python",
   "pygments_lexer": "ipython3",
   "version": "3.7.3"
  }
 },
 "nbformat": 4,
 "nbformat_minor": 1
}
